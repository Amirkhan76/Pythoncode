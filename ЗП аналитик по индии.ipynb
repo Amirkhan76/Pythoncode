{
 "cells": [
  {
   "cell_type": "markdown",
   "id": "03b2c5f7-8b5a-4e27-ba5e-9954bcfe695c",
   "metadata": {},
   "source": [
    "# Зарплаты в аналитической индустрии"
   ]
  },
  {
   "cell_type": "code",
   "execution_count": 1,
   "id": "1f193d10-4a00-404a-b147-36a85ad15395",
   "metadata": {},
   "outputs": [],
   "source": [
    "import pandas as pd\n",
    "import numpy as np\n",
    "import matplotlib.pyplot as plt"
   ]
  },
  {
   "cell_type": "code",
   "execution_count": 2,
   "id": "b8a7e5c1-0a91-47dc-9a18-5e19cf96348c",
   "metadata": {},
   "outputs": [
    {
     "data": {
      "text/html": [
       "<div>\n",
       "<style scoped>\n",
       "    .dataframe tbody tr th:only-of-type {\n",
       "        vertical-align: middle;\n",
       "    }\n",
       "\n",
       "    .dataframe tbody tr th {\n",
       "        vertical-align: top;\n",
       "    }\n",
       "\n",
       "    .dataframe thead th {\n",
       "        text-align: right;\n",
       "    }\n",
       "</style>\n",
       "<table border=\"1\" class=\"dataframe\">\n",
       "  <thead>\n",
       "    <tr style=\"text-align: right;\">\n",
       "      <th></th>\n",
       "      <th>Company Name</th>\n",
       "      <th>Job Title</th>\n",
       "      <th>Salaries Reported</th>\n",
       "      <th>Location</th>\n",
       "      <th>Salary</th>\n",
       "    </tr>\n",
       "  </thead>\n",
       "  <tbody>\n",
       "    <tr>\n",
       "      <th>0</th>\n",
       "      <td>Mu Sigma</td>\n",
       "      <td>Data Scientist</td>\n",
       "      <td>105.0</td>\n",
       "      <td>Bangalore</td>\n",
       "      <td>₹6,48,573/yr</td>\n",
       "    </tr>\n",
       "    <tr>\n",
       "      <th>1</th>\n",
       "      <td>IBM</td>\n",
       "      <td>Data Scientist</td>\n",
       "      <td>95.0</td>\n",
       "      <td>Bangalore</td>\n",
       "      <td>₹11,91,950/yr</td>\n",
       "    </tr>\n",
       "    <tr>\n",
       "      <th>2</th>\n",
       "      <td>Tata Consultancy Services</td>\n",
       "      <td>Data Scientist</td>\n",
       "      <td>66.0</td>\n",
       "      <td>Bangalore</td>\n",
       "      <td>₹8,36,874/yr</td>\n",
       "    </tr>\n",
       "    <tr>\n",
       "      <th>3</th>\n",
       "      <td>Impact Analytics</td>\n",
       "      <td>Data Scientist</td>\n",
       "      <td>40.0</td>\n",
       "      <td>Bangalore</td>\n",
       "      <td>₹6,69,578/yr</td>\n",
       "    </tr>\n",
       "    <tr>\n",
       "      <th>4</th>\n",
       "      <td>Accenture</td>\n",
       "      <td>Data Scientist</td>\n",
       "      <td>32.0</td>\n",
       "      <td>Bangalore</td>\n",
       "      <td>₹9,44,110/yr</td>\n",
       "    </tr>\n",
       "  </tbody>\n",
       "</table>\n",
       "</div>"
      ],
      "text/plain": [
       "                Company Name       Job Title  Salaries Reported   Location  \\\n",
       "0                   Mu Sigma  Data Scientist              105.0  Bangalore   \n",
       "1                        IBM  Data Scientist               95.0  Bangalore   \n",
       "2  Tata Consultancy Services  Data Scientist               66.0  Bangalore   \n",
       "3           Impact Analytics  Data Scientist               40.0  Bangalore   \n",
       "4                  Accenture  Data Scientist               32.0  Bangalore   \n",
       "\n",
       "          Salary  \n",
       "0   ₹6,48,573/yr  \n",
       "1  ₹11,91,950/yr  \n",
       "2   ₹8,36,874/yr  \n",
       "3   ₹6,69,578/yr  \n",
       "4   ₹9,44,110/yr  "
      ]
     },
     "execution_count": 2,
     "metadata": {},
     "output_type": "execute_result"
    }
   ],
   "source": [
    "data = pd.read_csv('/Users/amirhan/Downloads/archive/Salary Dataset.csv')\n",
    "data.head()"
   ]
  },
  {
   "cell_type": "code",
   "execution_count": 3,
   "id": "e9a62a4f-c017-4597-9921-a6ed4cb95d20",
   "metadata": {},
   "outputs": [
    {
     "name": "stdout",
     "output_type": "stream",
     "text": [
      "<class 'pandas.core.frame.DataFrame'>\n",
      "RangeIndex: 4344 entries, 0 to 4343\n",
      "Data columns (total 5 columns):\n",
      " #   Column             Non-Null Count  Dtype  \n",
      "---  ------             --------------  -----  \n",
      " 0   Company Name       4341 non-null   object \n",
      " 1   Job Title          4344 non-null   object \n",
      " 2   Salaries Reported  4342 non-null   float64\n",
      " 3   Location           4344 non-null   object \n",
      " 4   Salary             4344 non-null   object \n",
      "dtypes: float64(1), object(4)\n",
      "memory usage: 169.8+ KB\n"
     ]
    }
   ],
   "source": [
    "data.info()"
   ]
  },
  {
   "cell_type": "markdown",
   "id": "7103a877-b1a2-455c-bd20-aa57e10e348b",
   "metadata": {},
   "source": [
    "### Чистим колонку зарплата"
   ]
  },
  {
   "cell_type": "code",
   "execution_count": 4,
   "id": "61db8d78-1336-4587-a9f1-2c206575882a",
   "metadata": {},
   "outputs": [],
   "source": [
    "data['Money'] = data['Salary'].str.slice(start=0, stop=1) # slice - вырезает выбранный диапозон(0 до 1, первый символ )"
   ]
  },
  {
   "cell_type": "code",
   "execution_count": 11,
   "id": "9e29ee39-1945-4088-acf8-a072deddf76d",
   "metadata": {},
   "outputs": [],
   "source": [
    "data['Period'] = data['Salary'].str.split('/', n = 1, expand=True)[1]"
   ]
  },
  {
   "cell_type": "code",
   "execution_count": 14,
   "id": "adadb640-bb6b-4105-83a8-5033a0228ff9",
   "metadata": {},
   "outputs": [
    {
     "data": {
      "text/html": [
       "<div>\n",
       "<style scoped>\n",
       "    .dataframe tbody tr th:only-of-type {\n",
       "        vertical-align: middle;\n",
       "    }\n",
       "\n",
       "    .dataframe tbody tr th {\n",
       "        vertical-align: top;\n",
       "    }\n",
       "\n",
       "    .dataframe thead th {\n",
       "        text-align: right;\n",
       "    }\n",
       "</style>\n",
       "<table border=\"1\" class=\"dataframe\">\n",
       "  <thead>\n",
       "    <tr style=\"text-align: right;\">\n",
       "      <th></th>\n",
       "      <th>Company Name</th>\n",
       "      <th>Job Title</th>\n",
       "      <th>Salaries Reported</th>\n",
       "      <th>Location</th>\n",
       "      <th>Salary</th>\n",
       "      <th>Money</th>\n",
       "      <th>Period</th>\n",
       "      <th>Quantity</th>\n",
       "    </tr>\n",
       "  </thead>\n",
       "  <tbody>\n",
       "    <tr>\n",
       "      <th>0</th>\n",
       "      <td>Mu Sigma</td>\n",
       "      <td>Data Scientist</td>\n",
       "      <td>105.0</td>\n",
       "      <td>Bangalore</td>\n",
       "      <td>₹6,48,573/yr</td>\n",
       "      <td>₹</td>\n",
       "      <td>yr</td>\n",
       "      <td>6,48,573</td>\n",
       "    </tr>\n",
       "    <tr>\n",
       "      <th>1</th>\n",
       "      <td>IBM</td>\n",
       "      <td>Data Scientist</td>\n",
       "      <td>95.0</td>\n",
       "      <td>Bangalore</td>\n",
       "      <td>₹11,91,950/yr</td>\n",
       "      <td>₹</td>\n",
       "      <td>yr</td>\n",
       "      <td>11,91,950</td>\n",
       "    </tr>\n",
       "    <tr>\n",
       "      <th>2</th>\n",
       "      <td>Tata Consultancy Services</td>\n",
       "      <td>Data Scientist</td>\n",
       "      <td>66.0</td>\n",
       "      <td>Bangalore</td>\n",
       "      <td>₹8,36,874/yr</td>\n",
       "      <td>₹</td>\n",
       "      <td>yr</td>\n",
       "      <td>8,36,874</td>\n",
       "    </tr>\n",
       "    <tr>\n",
       "      <th>3</th>\n",
       "      <td>Impact Analytics</td>\n",
       "      <td>Data Scientist</td>\n",
       "      <td>40.0</td>\n",
       "      <td>Bangalore</td>\n",
       "      <td>₹6,69,578/yr</td>\n",
       "      <td>₹</td>\n",
       "      <td>yr</td>\n",
       "      <td>6,69,578</td>\n",
       "    </tr>\n",
       "    <tr>\n",
       "      <th>4</th>\n",
       "      <td>Accenture</td>\n",
       "      <td>Data Scientist</td>\n",
       "      <td>32.0</td>\n",
       "      <td>Bangalore</td>\n",
       "      <td>₹9,44,110/yr</td>\n",
       "      <td>₹</td>\n",
       "      <td>yr</td>\n",
       "      <td>9,44,110</td>\n",
       "    </tr>\n",
       "  </tbody>\n",
       "</table>\n",
       "</div>"
      ],
      "text/plain": [
       "                Company Name       Job Title  Salaries Reported   Location  \\\n",
       "0                   Mu Sigma  Data Scientist              105.0  Bangalore   \n",
       "1                        IBM  Data Scientist               95.0  Bangalore   \n",
       "2  Tata Consultancy Services  Data Scientist               66.0  Bangalore   \n",
       "3           Impact Analytics  Data Scientist               40.0  Bangalore   \n",
       "4                  Accenture  Data Scientist               32.0  Bangalore   \n",
       "\n",
       "          Salary Money Period   Quantity  \n",
       "0   ₹6,48,573/yr     ₹     yr   6,48,573  \n",
       "1  ₹11,91,950/yr     ₹     yr  11,91,950  \n",
       "2   ₹8,36,874/yr     ₹     yr   8,36,874  \n",
       "3   ₹6,69,578/yr     ₹     yr   6,69,578  \n",
       "4   ₹9,44,110/yr     ₹     yr   9,44,110  "
      ]
     },
     "execution_count": 14,
     "metadata": {},
     "output_type": "execute_result"
    }
   ],
   "source": [
    "data.head()"
   ]
  },
  {
   "cell_type": "code",
   "execution_count": 7,
   "id": "bcf18e5b-8293-496f-9fad-75b43dab2458",
   "metadata": {},
   "outputs": [],
   "source": [
    "data['Period'] = data['Salary'].str.split('/', expand=True)[1] #выбираем второе значение после /"
   ]
  },
  {
   "cell_type": "code",
   "execution_count": 13,
   "id": "1850d20c-735c-4928-822c-5f09ae847491",
   "metadata": {},
   "outputs": [],
   "source": [
    "data['Quantity'] = data['Salary'].str.split('/', n = 1, expand=True)[0].str.slice(start=1) #выбираем значение до / "
   ]
  },
  {
   "cell_type": "code",
   "execution_count": 15,
   "id": "e25969b8-b397-4f3e-9e12-8bd8b4c0f5f9",
   "metadata": {},
   "outputs": [],
   "source": [
    "data['Quantity'] = data['Quantity'].str.replace(',', '') #заменяем запятую на пустоту"
   ]
  },
  {
   "cell_type": "code",
   "execution_count": 16,
   "id": "ac436d8e-7c75-4a6f-91ac-ddfd3f52c90e",
   "metadata": {},
   "outputs": [],
   "source": [
    "# Удаляем не нужную нам валюту из датасета\n",
    "td = data.loc[data['Money']=='A'].index\n",
    "df = data.drop(td, axis=0)"
   ]
  },
  {
   "cell_type": "code",
   "execution_count": 17,
   "id": "712e40a7-1fee-42d9-be67-12606211e0bf",
   "metadata": {},
   "outputs": [],
   "source": [
    "# переведм кол-во в тип флоат\n",
    "df['Quantity'] = df['Quantity'].astype(float)"
   ]
  },
  {
   "cell_type": "markdown",
   "id": "396ac8ee-0c27-4267-b834-c139e88a3203",
   "metadata": {},
   "source": [
    "### Переведем все показатели Period в yr"
   ]
  },
  {
   "cell_type": "code",
   "execution_count": 18,
   "id": "2a81d90a-0ac1-4683-ad5f-4369abe67f0f",
   "metadata": {},
   "outputs": [
    {
     "data": {
      "text/plain": [
       "array(['yr', 'mo', 'hr'], dtype=object)"
      ]
     },
     "execution_count": 18,
     "metadata": {},
     "output_type": "execute_result"
    }
   ],
   "source": [
    "df['Period'].unique() # у нас три показателя год, месяц, час"
   ]
  },
  {
   "cell_type": "code",
   "execution_count": 19,
   "id": "11efbfcf-32ae-4926-be34-7da33d075621",
   "metadata": {},
   "outputs": [
    {
     "name": "stderr",
     "output_type": "stream",
     "text": [
      "/Users/amirhan/opt/anaconda3/lib/python3.9/site-packages/pandas/core/indexing.py:1732: SettingWithCopyWarning: \n",
      "A value is trying to be set on a copy of a slice from a DataFrame\n",
      "\n",
      "See the caveats in the documentation: https://pandas.pydata.org/pandas-docs/stable/user_guide/indexing.html#returning-a-view-versus-a-copy\n",
      "  self._setitem_single_block(indexer, value, name)\n"
     ]
    }
   ],
   "source": [
    "df['Quantity'].loc[df['Period']=='mo'] = df['Quantity'] * 12\n",
    "df['Quantity'].loc[df['Period']=='hr'] = df['Quantity'] * 12 * 40"
   ]
  },
  {
   "cell_type": "code",
   "execution_count": 20,
   "id": "94ec915b-2cde-4393-8e49-a35f37cf0ca0",
   "metadata": {},
   "outputs": [
    {
     "data": {
      "text/plain": [
       "array(['₹', '$', '£'], dtype=object)"
      ]
     },
     "execution_count": 20,
     "metadata": {},
     "output_type": "execute_result"
    }
   ],
   "source": [
    "df['Money'].unique()"
   ]
  },
  {
   "cell_type": "code",
   "execution_count": 21,
   "id": "0d139c83-8ba3-4cf8-bce0-a59d99a20f19",
   "metadata": {},
   "outputs": [],
   "source": [
    "# трансформируем все валюты в доллоры\n",
    "df['Quantity'].loc[df['Money'] == '₹'] = df['Quantity'] * 0.013\n",
    "df['Quantity'].loc[df['Money'] == '£'] = df['Quantity'] * 1.11"
   ]
  },
  {
   "cell_type": "code",
   "execution_count": 22,
   "id": "de2b1c7b-f617-43e6-8b72-39e183d9c8db",
   "metadata": {},
   "outputs": [],
   "source": [
    "df.loc[df['Salaries Reported'].isna()] # смотрим какие значения нулы\n",
    "df.dropna(subset=['Salaries Reported'], inplace=True) # дропаем все нулы "
   ]
  },
  {
   "cell_type": "code",
   "execution_count": 23,
   "id": "5ee8f4a4-e7f2-4cfa-8adc-d34488e6ccb9",
   "metadata": {},
   "outputs": [
    {
     "name": "stdout",
     "output_type": "stream",
     "text": [
      "<class 'pandas.core.frame.DataFrame'>\n",
      "Int64Index: 4341 entries, 0 to 4343\n",
      "Data columns (total 8 columns):\n",
      " #   Column             Non-Null Count  Dtype  \n",
      "---  ------             --------------  -----  \n",
      " 0   Company Name       4341 non-null   object \n",
      " 1   Job Title          4341 non-null   object \n",
      " 2   Salaries Reported  4341 non-null   float64\n",
      " 3   Location           4341 non-null   object \n",
      " 4   Salary             4341 non-null   object \n",
      " 5   Money              4341 non-null   object \n",
      " 6   Period             4341 non-null   object \n",
      " 7   Quantity           4341 non-null   float64\n",
      "dtypes: float64(2), object(6)\n",
      "memory usage: 305.2+ KB\n"
     ]
    }
   ],
   "source": [
    "# заменяем компании без имени на Other\n",
    "df.loc[df['Company Name'].isna()] # проверяем есть ли компании с пустым значением\n",
    "df['Company Name'] = df['Company Name'].fillna('Other') # Пишем в скобках значение которое хотим увидеть\n",
    "df.info()"
   ]
  },
  {
   "cell_type": "code",
   "execution_count": 24,
   "id": "d27eebdb-762d-4bc3-8129-7c166c295ed6",
   "metadata": {},
   "outputs": [
    {
     "data": {
      "text/html": [
       "<div>\n",
       "<style scoped>\n",
       "    .dataframe tbody tr th:only-of-type {\n",
       "        vertical-align: middle;\n",
       "    }\n",
       "\n",
       "    .dataframe tbody tr th {\n",
       "        vertical-align: top;\n",
       "    }\n",
       "\n",
       "    .dataframe thead th {\n",
       "        text-align: right;\n",
       "    }\n",
       "</style>\n",
       "<table border=\"1\" class=\"dataframe\">\n",
       "  <thead>\n",
       "    <tr style=\"text-align: right;\">\n",
       "      <th></th>\n",
       "      <th>Company Name</th>\n",
       "      <th>Job Title</th>\n",
       "      <th>Salaries Reported</th>\n",
       "      <th>Location</th>\n",
       "      <th>Salary</th>\n",
       "      <th>Money</th>\n",
       "      <th>Period</th>\n",
       "      <th>Quantity</th>\n",
       "    </tr>\n",
       "  </thead>\n",
       "  <tbody>\n",
       "    <tr>\n",
       "      <th>0</th>\n",
       "      <td>Mu Sigma</td>\n",
       "      <td>Data Scientist</td>\n",
       "      <td>105.0</td>\n",
       "      <td>Bangalore</td>\n",
       "      <td>₹6,48,573/yr</td>\n",
       "      <td>₹</td>\n",
       "      <td>yr</td>\n",
       "      <td>8431.449</td>\n",
       "    </tr>\n",
       "    <tr>\n",
       "      <th>1</th>\n",
       "      <td>IBM</td>\n",
       "      <td>Data Scientist</td>\n",
       "      <td>95.0</td>\n",
       "      <td>Bangalore</td>\n",
       "      <td>₹11,91,950/yr</td>\n",
       "      <td>₹</td>\n",
       "      <td>yr</td>\n",
       "      <td>15495.350</td>\n",
       "    </tr>\n",
       "    <tr>\n",
       "      <th>2</th>\n",
       "      <td>Tata Consultancy Services</td>\n",
       "      <td>Data Scientist</td>\n",
       "      <td>66.0</td>\n",
       "      <td>Bangalore</td>\n",
       "      <td>₹8,36,874/yr</td>\n",
       "      <td>₹</td>\n",
       "      <td>yr</td>\n",
       "      <td>10879.362</td>\n",
       "    </tr>\n",
       "    <tr>\n",
       "      <th>3</th>\n",
       "      <td>Impact Analytics</td>\n",
       "      <td>Data Scientist</td>\n",
       "      <td>40.0</td>\n",
       "      <td>Bangalore</td>\n",
       "      <td>₹6,69,578/yr</td>\n",
       "      <td>₹</td>\n",
       "      <td>yr</td>\n",
       "      <td>8704.514</td>\n",
       "    </tr>\n",
       "    <tr>\n",
       "      <th>4</th>\n",
       "      <td>Accenture</td>\n",
       "      <td>Data Scientist</td>\n",
       "      <td>32.0</td>\n",
       "      <td>Bangalore</td>\n",
       "      <td>₹9,44,110/yr</td>\n",
       "      <td>₹</td>\n",
       "      <td>yr</td>\n",
       "      <td>12273.430</td>\n",
       "    </tr>\n",
       "  </tbody>\n",
       "</table>\n",
       "</div>"
      ],
      "text/plain": [
       "                Company Name       Job Title  Salaries Reported   Location  \\\n",
       "0                   Mu Sigma  Data Scientist              105.0  Bangalore   \n",
       "1                        IBM  Data Scientist               95.0  Bangalore   \n",
       "2  Tata Consultancy Services  Data Scientist               66.0  Bangalore   \n",
       "3           Impact Analytics  Data Scientist               40.0  Bangalore   \n",
       "4                  Accenture  Data Scientist               32.0  Bangalore   \n",
       "\n",
       "          Salary Money Period   Quantity  \n",
       "0   ₹6,48,573/yr     ₹     yr   8431.449  \n",
       "1  ₹11,91,950/yr     ₹     yr  15495.350  \n",
       "2   ₹8,36,874/yr     ₹     yr  10879.362  \n",
       "3   ₹6,69,578/yr     ₹     yr   8704.514  \n",
       "4   ₹9,44,110/yr     ₹     yr  12273.430  "
      ]
     },
     "execution_count": 24,
     "metadata": {},
     "output_type": "execute_result"
    }
   ],
   "source": [
    "df.head()"
   ]
  },
  {
   "cell_type": "code",
   "execution_count": 25,
   "id": "c04777e8-5556-4eb0-87f4-730c38a2aa8b",
   "metadata": {},
   "outputs": [],
   "source": [
    "df['Money'] = df['Money'].str.replace('₹', '$')\n",
    "df['Money'] = df['Money'].str.replace('£', '$')"
   ]
  },
  {
   "cell_type": "code",
   "execution_count": 26,
   "id": "fb48fd6c-5eed-4bfb-a54b-624ceed4e16a",
   "metadata": {},
   "outputs": [],
   "source": [
    "df['Quantity'] = df['Quantity'] / df['Salaries Reported']"
   ]
  },
  {
   "cell_type": "code",
   "execution_count": 27,
   "id": "fb719e2f-afb6-4e80-9e7f-2c564bd63902",
   "metadata": {},
   "outputs": [],
   "source": [
    "df.drop(['Salaries Reported','Money','Period'], axis=1, inplace=True)"
   ]
  },
  {
   "cell_type": "code",
   "execution_count": 30,
   "id": "0d2e58a2-c53e-4d99-badc-e7c70e63e669",
   "metadata": {},
   "outputs": [
    {
     "data": {
      "text/html": [
       "<div>\n",
       "<style scoped>\n",
       "    .dataframe tbody tr th:only-of-type {\n",
       "        vertical-align: middle;\n",
       "    }\n",
       "\n",
       "    .dataframe tbody tr th {\n",
       "        vertical-align: top;\n",
       "    }\n",
       "\n",
       "    .dataframe thead th {\n",
       "        text-align: right;\n",
       "    }\n",
       "</style>\n",
       "<table border=\"1\" class=\"dataframe\">\n",
       "  <thead>\n",
       "    <tr style=\"text-align: right;\">\n",
       "      <th></th>\n",
       "      <th>Company Name</th>\n",
       "      <th>Job Title</th>\n",
       "      <th>Location</th>\n",
       "      <th>Quantity</th>\n",
       "    </tr>\n",
       "  </thead>\n",
       "  <tbody>\n",
       "    <tr>\n",
       "      <th>0</th>\n",
       "      <td>Mu Sigma</td>\n",
       "      <td>Data Scientist</td>\n",
       "      <td>Bangalore</td>\n",
       "      <td>80.299514</td>\n",
       "    </tr>\n",
       "    <tr>\n",
       "      <th>1</th>\n",
       "      <td>IBM</td>\n",
       "      <td>Data Scientist</td>\n",
       "      <td>Bangalore</td>\n",
       "      <td>163.108947</td>\n",
       "    </tr>\n",
       "    <tr>\n",
       "      <th>2</th>\n",
       "      <td>Tata Consultancy Services</td>\n",
       "      <td>Data Scientist</td>\n",
       "      <td>Bangalore</td>\n",
       "      <td>164.838818</td>\n",
       "    </tr>\n",
       "    <tr>\n",
       "      <th>3</th>\n",
       "      <td>Impact Analytics</td>\n",
       "      <td>Data Scientist</td>\n",
       "      <td>Bangalore</td>\n",
       "      <td>217.612850</td>\n",
       "    </tr>\n",
       "    <tr>\n",
       "      <th>4</th>\n",
       "      <td>Accenture</td>\n",
       "      <td>Data Scientist</td>\n",
       "      <td>Bangalore</td>\n",
       "      <td>383.544688</td>\n",
       "    </tr>\n",
       "    <tr>\n",
       "      <th>...</th>\n",
       "      <td>...</td>\n",
       "      <td>...</td>\n",
       "      <td>...</td>\n",
       "      <td>...</td>\n",
       "    </tr>\n",
       "    <tr>\n",
       "      <th>4339</th>\n",
       "      <td>TaiyōAI</td>\n",
       "      <td>Machine Learning Scientist</td>\n",
       "      <td>Mumbai</td>\n",
       "      <td>808.080000</td>\n",
       "    </tr>\n",
       "    <tr>\n",
       "      <th>4340</th>\n",
       "      <td>Decimal Point Analytics</td>\n",
       "      <td>Machine Learning Developer</td>\n",
       "      <td>Mumbai</td>\n",
       "      <td>9766.718000</td>\n",
       "    </tr>\n",
       "    <tr>\n",
       "      <th>4341</th>\n",
       "      <td>MyWays</td>\n",
       "      <td>Machine Learning Developer</td>\n",
       "      <td>Mumbai</td>\n",
       "      <td>5342.376000</td>\n",
       "    </tr>\n",
       "    <tr>\n",
       "      <th>4342</th>\n",
       "      <td>Market Pulse Technologies</td>\n",
       "      <td>Software Engineer - Machine Learning</td>\n",
       "      <td>Mumbai</td>\n",
       "      <td>20960.212000</td>\n",
       "    </tr>\n",
       "    <tr>\n",
       "      <th>4343</th>\n",
       "      <td>vPhrase</td>\n",
       "      <td>Machine Learning Engineer</td>\n",
       "      <td>Mumbai</td>\n",
       "      <td>12217.959000</td>\n",
       "    </tr>\n",
       "  </tbody>\n",
       "</table>\n",
       "<p>4341 rows × 4 columns</p>\n",
       "</div>"
      ],
      "text/plain": [
       "                   Company Name                             Job Title  \\\n",
       "0                      Mu Sigma                        Data Scientist   \n",
       "1                           IBM                        Data Scientist   \n",
       "2     Tata Consultancy Services                        Data Scientist   \n",
       "3              Impact Analytics                        Data Scientist   \n",
       "4                     Accenture                        Data Scientist   \n",
       "...                         ...                                   ...   \n",
       "4339                    TaiyōAI            Machine Learning Scientist   \n",
       "4340    Decimal Point Analytics            Machine Learning Developer   \n",
       "4341                     MyWays            Machine Learning Developer   \n",
       "4342  Market Pulse Technologies  Software Engineer - Machine Learning   \n",
       "4343                    vPhrase             Machine Learning Engineer   \n",
       "\n",
       "       Location      Quantity  \n",
       "0     Bangalore     80.299514  \n",
       "1     Bangalore    163.108947  \n",
       "2     Bangalore    164.838818  \n",
       "3     Bangalore    217.612850  \n",
       "4     Bangalore    383.544688  \n",
       "...         ...           ...  \n",
       "4339     Mumbai    808.080000  \n",
       "4340     Mumbai   9766.718000  \n",
       "4341     Mumbai   5342.376000  \n",
       "4342     Mumbai  20960.212000  \n",
       "4343     Mumbai  12217.959000  \n",
       "\n",
       "[4341 rows x 4 columns]"
      ]
     },
     "execution_count": 30,
     "metadata": {},
     "output_type": "execute_result"
    }
   ],
   "source": [
    "df"
   ]
  },
  {
   "cell_type": "markdown",
   "id": "34c802ed-c54a-47b9-a725-cda2b16692a7",
   "metadata": {},
   "source": [
    "### Теперь можем построить график средней зп по регонам"
   ]
  },
  {
   "cell_type": "code",
   "execution_count": 35,
   "id": "ee2c5e15-c8c3-41a2-a66c-2f2cadd85a61",
   "metadata": {},
   "outputs": [],
   "source": [
    "mean_by_loc = df[['Location','Quantity']].groupby('Location').mean().reset_index().sort_values('Quantity', ascending=False)"
   ]
  },
  {
   "cell_type": "code",
   "execution_count": 39,
   "id": "02b34b4e-e5b2-4728-9130-9b770daf355b",
   "metadata": {},
   "outputs": [
    {
     "data": {
      "text/html": [
       "<div>\n",
       "<style scoped>\n",
       "    .dataframe tbody tr th:only-of-type {\n",
       "        vertical-align: middle;\n",
       "    }\n",
       "\n",
       "    .dataframe tbody tr th {\n",
       "        vertical-align: top;\n",
       "    }\n",
       "\n",
       "    .dataframe thead th {\n",
       "        text-align: right;\n",
       "    }\n",
       "</style>\n",
       "<table border=\"1\" class=\"dataframe\">\n",
       "  <thead>\n",
       "    <tr style=\"text-align: right;\">\n",
       "      <th></th>\n",
       "      <th>Company Name</th>\n",
       "      <th>Job Title</th>\n",
       "      <th>Location</th>\n",
       "      <th>Quantity</th>\n",
       "    </tr>\n",
       "  </thead>\n",
       "  <tbody>\n",
       "    <tr>\n",
       "      <th>0</th>\n",
       "      <td>Mu Sigma</td>\n",
       "      <td>Data Scientist</td>\n",
       "      <td>Bangalore</td>\n",
       "      <td>80.299514</td>\n",
       "    </tr>\n",
       "    <tr>\n",
       "      <th>1</th>\n",
       "      <td>IBM</td>\n",
       "      <td>Data Scientist</td>\n",
       "      <td>Bangalore</td>\n",
       "      <td>163.108947</td>\n",
       "    </tr>\n",
       "    <tr>\n",
       "      <th>2</th>\n",
       "      <td>Tata Consultancy Services</td>\n",
       "      <td>Data Scientist</td>\n",
       "      <td>Bangalore</td>\n",
       "      <td>164.838818</td>\n",
       "    </tr>\n",
       "    <tr>\n",
       "      <th>3</th>\n",
       "      <td>Impact Analytics</td>\n",
       "      <td>Data Scientist</td>\n",
       "      <td>Bangalore</td>\n",
       "      <td>217.612850</td>\n",
       "    </tr>\n",
       "    <tr>\n",
       "      <th>4</th>\n",
       "      <td>Accenture</td>\n",
       "      <td>Data Scientist</td>\n",
       "      <td>Bangalore</td>\n",
       "      <td>383.544688</td>\n",
       "    </tr>\n",
       "    <tr>\n",
       "      <th>...</th>\n",
       "      <td>...</td>\n",
       "      <td>...</td>\n",
       "      <td>...</td>\n",
       "      <td>...</td>\n",
       "    </tr>\n",
       "    <tr>\n",
       "      <th>4339</th>\n",
       "      <td>TaiyōAI</td>\n",
       "      <td>Machine Learning Scientist</td>\n",
       "      <td>Mumbai</td>\n",
       "      <td>808.080000</td>\n",
       "    </tr>\n",
       "    <tr>\n",
       "      <th>4340</th>\n",
       "      <td>Decimal Point Analytics</td>\n",
       "      <td>Machine Learning Developer</td>\n",
       "      <td>Mumbai</td>\n",
       "      <td>9766.718000</td>\n",
       "    </tr>\n",
       "    <tr>\n",
       "      <th>4341</th>\n",
       "      <td>MyWays</td>\n",
       "      <td>Machine Learning Developer</td>\n",
       "      <td>Mumbai</td>\n",
       "      <td>5342.376000</td>\n",
       "    </tr>\n",
       "    <tr>\n",
       "      <th>4342</th>\n",
       "      <td>Market Pulse Technologies</td>\n",
       "      <td>Software Engineer - Machine Learning</td>\n",
       "      <td>Mumbai</td>\n",
       "      <td>20960.212000</td>\n",
       "    </tr>\n",
       "    <tr>\n",
       "      <th>4343</th>\n",
       "      <td>vPhrase</td>\n",
       "      <td>Machine Learning Engineer</td>\n",
       "      <td>Mumbai</td>\n",
       "      <td>12217.959000</td>\n",
       "    </tr>\n",
       "  </tbody>\n",
       "</table>\n",
       "<p>4341 rows × 4 columns</p>\n",
       "</div>"
      ],
      "text/plain": [
       "                   Company Name                             Job Title  \\\n",
       "0                      Mu Sigma                        Data Scientist   \n",
       "1                           IBM                        Data Scientist   \n",
       "2     Tata Consultancy Services                        Data Scientist   \n",
       "3              Impact Analytics                        Data Scientist   \n",
       "4                     Accenture                        Data Scientist   \n",
       "...                         ...                                   ...   \n",
       "4339                    TaiyōAI            Machine Learning Scientist   \n",
       "4340    Decimal Point Analytics            Machine Learning Developer   \n",
       "4341                     MyWays            Machine Learning Developer   \n",
       "4342  Market Pulse Technologies  Software Engineer - Machine Learning   \n",
       "4343                    vPhrase             Machine Learning Engineer   \n",
       "\n",
       "       Location      Quantity  \n",
       "0     Bangalore     80.299514  \n",
       "1     Bangalore    163.108947  \n",
       "2     Bangalore    164.838818  \n",
       "3     Bangalore    217.612850  \n",
       "4     Bangalore    383.544688  \n",
       "...         ...           ...  \n",
       "4339     Mumbai    808.080000  \n",
       "4340     Mumbai   9766.718000  \n",
       "4341     Mumbai   5342.376000  \n",
       "4342     Mumbai  20960.212000  \n",
       "4343     Mumbai  12217.959000  \n",
       "\n",
       "[4341 rows x 4 columns]"
      ]
     },
     "execution_count": 39,
     "metadata": {},
     "output_type": "execute_result"
    }
   ],
   "source": [
    "#mean_by_loc.head()\n",
    "df"
   ]
  },
  {
   "cell_type": "code",
   "execution_count": 37,
   "id": "b178139a-153a-4368-b9d9-2cb2de439975",
   "metadata": {},
   "outputs": [
    {
     "data": {
      "image/png": "[encoded data removed]",
      "text/plain": [
       "<Figure size 432x288 with 1 Axes>"
      ]
     },
     "metadata": {
      "needs_background": "light"
     },
     "output_type": "display_data"
    }
   ],
   "source": [
    "fig, ax = plt.subplots()\n",
    "ax.bar(mean_by_loc['Location'], mean_by_loc['Quantity'], linewidth='0.5')\n",
    "plt.ylabel('Годовая Зарплата в долларах')\n",
    "plt.xlabel('Локация')\n",
    "plt.show()"
   ]
  },
  {
   "cell_type": "code",
   "execution_count": 40,
   "id": "64beba1f-3e92-4ff4-8db0-222ff2753fbb",
   "metadata": {},
   "outputs": [
    {
     "name": "stderr",
     "output_type": "stream",
     "text": [
      "/Users/amirhan/opt/anaconda3/lib/python3.9/site-packages/pandas/core/indexing.py:1732: SettingWithCopyWarning: \n",
      "A value is trying to be set on a copy of a slice from a DataFrame\n",
      "\n",
      "See the caveats in the documentation: https://pandas.pydata.org/pandas-docs/stable/user_guide/indexing.html#returning-a-view-versus-a-copy\n",
      "  self._setitem_single_block(indexer, value, name)\n"
     ]
    }
   ],
   "source": [
    "df['Field'] = 'Other'\n",
    "wData =  df['Job Title'].str.contains(\"Data\")\n",
    "wScience = df['Job Title'].str.contains(\"Science\")\n",
    "wScientist = df['Job Title'].str.contains(\"Scientist\")\n",
    "wMachine = df['Job Title'].str.contains(\"Machine\")\n",
    "wLearning = df['Job Title'].str.contains(\"Learning\")\n",
    "wEngineer = df['Job Title'].str.contains(\"Engineer\")\n",
    "wEngineering = df['Job Title'].str.contains(\"Engineering\")\n",
    "wAnalyst = df['Job Title'].str.contains(\"Analyst\")\n",
    "\n",
    "df['Field'].loc[wData & (wScience | wScientist) & ~wMachine] = 'Data Science'\n",
    "df['Field'].loc[wData & (wEngineer | wEngineering)] = 'Data Engineering'\n",
    "df['Field'].loc[wMachine & wLearning & ~(wData & wScientist)] = 'Machine Learning'\n",
    "df['Field'].loc[wData & wAnalyst & ~(wMachine | wScientist)] = 'Data Analysis'\n",
    "\n",
    "df['Level'] = 'Mid'\n",
    "\n",
    "wJunior =  df['Job Title'].str.contains(\"Junior\")\n",
    "wTrainee = df['Job Title'].str.contains(\"Trainee\")\n",
    "wConsultant = df['Job Title'].str.contains(\"Consultant\")\n",
    "wSenior = df['Job Title'].str.contains(\"Senior\")\n",
    "wLead = df['Job Title'].str.contains(\"Lead\")\n",
    "wManager = df['Job Title'].str.contains(\"Manager\")\n",
    "\n",
    "df['Level'].loc[wJunior | wTrainee] = 'Junior'\n",
    "df['Level'].loc[wConsultant] = 'Consultant'\n",
    "df['Level'].loc[wSenior] = 'Senior'\n",
    "df['Level'].loc[wManager| wLead] = 'Manager'"
   ]
  },
  {
   "cell_type": "code",
   "execution_count": 44,
   "id": "4d175255-3060-4abb-9251-3bde7ac9253c",
   "metadata": {},
   "outputs": [
    {
     "data": {
      "image/png": "[encoded data removed]",
      "text/plain": [
       "<Figure size 432x288 with 1 Axes>"
      ]
     },
     "metadata": {
      "needs_background": "light"
     },
     "output_type": "display_data"
    }
   ],
   "source": [
    "mean_by_field = df.groupby(['Field'])[['Quantity']].agg('mean').sort_values('Quantity', ascending=True).reset_index()\n",
    "plt.bar(mean_by_field['Field'], mean_by_field['Quantity'])\n",
    "plt.xlabel('')\n",
    "plt.ylabel('Yearly Salary (dollars)')\n",
    "plt.title('Average Yearly Salary by Field')\n",
    "plt.xticks(rotation='45')\n",
    "plt.show()"
   ]
  },
  {
   "cell_type": "code",
   "execution_count": 51,
   "id": "a1c697e0-8146-4097-8b81-e3b1d25a93a1",
   "metadata": {},
   "outputs": [
    {
     "data": {
      "image/png": "[encoded data removed]",
      "text/plain": [
       "<Figure size 432x288 with 1 Axes>"
      ]
     },
     "metadata": {
      "needs_background": "light"
     },
     "output_type": "display_data"
    }
   ],
   "source": [
    "mean_by_level = df.groupby(['Level'])[['Level','Quantity']].agg('mean').reset_index().sort_values('Quantity', ascending=True)\n",
    "plt.bar(mean_by_level['Level'],mean_by_level['Quantity'])\n",
    "plt.xlabel('')\n",
    "plt.ylabel('Yearly Salary (dollars)')\n",
    "plt.title('Average Yearly Salary by Field')\n",
    "plt.xticks(rotation='45')\n",
    "plt.show()"
   ]
  },
  {
   "cell_type": "code",
   "execution_count": 96,
   "id": "9149d551-6d83-4cf0-bdea-276748acb704",
   "metadata": {},
   "outputs": [
    {
     "data": {
      "image/png": "[encoded data removed]",
      "text/plain": [
       "<Figure size 432x288 with 1 Axes>"
      ]
     },
     "metadata": {
      "needs_background": "light"
     },
     "output_type": "display_data"
    }
   ],
   "source": [
    "mean_by_position = df.groupby(['Level','Field'])[['Quantity']].agg('mean').reset_index().sort_values('Quantity', ascending=True)\n",
    "plt.scatter(mean_by_position['Level'], mean_by_position['Field'], mean_by_position['Quantity'], alpha=0.6)\n",
    "plt.show()"
   ]
  },
  {
   "cell_type": "code",
   "execution_count": null,
   "id": "05a5df20-5704-43b6-9156-c81b17dae875",
   "metadata": {},
   "outputs": [],
   "source": []
  }
 ],
 "metadata": {
  "kernelspec": {
   "display_name": "Python 3 (ipykernel)",
   "language": "python",
   "name": "python3"
  },
  "language_info": {
   "codemirror_mode": {
    "name": "ipython",
    "version": 3
   },
   "file_extension": ".py",
   "mimetype": "text/x-python",
   "name": "python",
   "nbconvert_exporter": "python",
   "pygments_lexer": "ipython3",
   "version": "3.9.7"
  }
 },
 "nbformat": 4,
 "nbformat_minor": 5
}
